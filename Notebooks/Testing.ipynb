{
 "cells": [
  {
   "cell_type": "markdown",
   "metadata": {},
   "source": [
    "After training the Model and saving it as '.h5' format, load it here as:"
   ]
  },
  {
   "cell_type": "code",
   "execution_count": 2,
   "metadata": {},
   "outputs": [],
   "source": [
    "import tensorflow as tf\n",
    "from tensorflow import keras\n",
    "import numpy as np\n",
    "import cv2\n",
    "from IPython.display import Image\n",
    "from tensorflow.keras.applications.inception_v3 import preprocess_input\n",
    "from tensorflow.keras.preprocessing.image import ImageDataGenerator, load_img, img_to_array\n",
    "\n",
    "loaded_model = tf.keras.models.load_model('Address\\of\\The\\Model')"
   ]
  },
  {
   "cell_type": "markdown",
   "metadata": {},
   "source": [
    "Load the image using link"
   ]
  },
  {
   "cell_type": "code",
   "execution_count": 3,
   "metadata": {},
   "outputs": [],
   "source": [
    "image_path = 'Address\\of\\The\\Image'"
   ]
  },
  {
   "cell_type": "markdown",
   "metadata": {},
   "source": [
    "Processing the Image"
   ]
  },
  {
   "cell_type": "code",
   "execution_count": 4,
   "metadata": {},
   "outputs": [],
   "source": [
    "image = load_img(image_path, target_size=(300, 300)) \n",
    "image = img_to_array(image)\n",
    "image = np.expand_dims(image, axis=0)\n",
    "image = preprocess_input(image) "
   ]
  },
  {
   "cell_type": "markdown",
   "metadata": {},
   "source": [
    "Predict image as 'real' or 'fake'"
   ]
  },
  {
   "cell_type": "code",
   "execution_count": 11,
   "metadata": {},
   "outputs": [
    {
     "name": "stdout",
     "output_type": "stream",
     "text": [
      "1/1 [==============================] - 0s 70ms/step\n",
      "Real:  0.00000000\n",
      "Fake:  1.00000000\n",
      "Predicted category: fake\n"
     ]
    }
   ],
   "source": [
    "predictions = loaded_model.predict(image)   #prediction using the loaded model\n",
    "\n",
    "print(f\"Real: {predictions[0][1]/(predictions[0][0] + predictions[0][1]): .8f}\")\n",
    "print(f\"Fake: {predictions[0][0]/(predictions[0][0] + predictions[0][1]): .8f}\")\n",
    "\n",
    "if max(predictions[0][0], predictions[0][1]) == predictions[0][0]:\n",
    "    print(\"Predicted category: Fake\")\n",
    "elif max(predictions[0][0], predictions[0][1]) == predictions[0][1]:\n",
    "    print(\"Predicted category: Real\")"
   ]
  }
 ],
 "metadata": {
  "kernelspec": {
   "display_name": "Python 3",
   "language": "python",
   "name": "python3"
  },
  "language_info": {
   "codemirror_mode": {
    "name": "ipython",
    "version": 3
   },
   "file_extension": ".py",
   "mimetype": "text/x-python",
   "name": "python",
   "nbconvert_exporter": "python",
   "pygments_lexer": "ipython3",
   "version": "3.11.4"
  }
 },
 "nbformat": 4,
 "nbformat_minor": 2
}
